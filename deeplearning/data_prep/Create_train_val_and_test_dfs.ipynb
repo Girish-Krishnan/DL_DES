{
 "cells": [
  {
   "cell_type": "code",
   "execution_count": 1,
   "metadata": {},
   "outputs": [],
   "source": [
    "import pandas as pd\n",
    "import numpy as np\n",
    "import matplotlib.pyplot as plt\n",
    "import seaborn as sns\n",
    "%matplotlib inline"
   ]
  },
  {
   "cell_type": "code",
   "execution_count": 2,
   "metadata": {},
   "outputs": [],
   "source": [
    "sns.set_style(\"darkgrid\")\n",
    "sns.set_palette(\"pastel\")"
   ]
  },
  {
   "cell_type": "code",
   "execution_count": 3,
   "metadata": {},
   "outputs": [],
   "source": [
    "PATH = './'"
   ]
  },
  {
   "cell_type": "code",
   "execution_count": 6,
   "metadata": {},
   "outputs": [],
   "source": [
    "high_certainty_path = PATH + '../../data/sdss-galaxyzoo/high_certainty/merged_dataset.csv'\n",
    "high_prob_crossmatch_path = PATH + '../../src/des/des_sdss_overlap/high_prob_overlap/high_prob_crossmatch_merged.csv'\n",
    "full_overlap_crossmatch_path = PATH + '../../src/des/des_sdss_overlap/full_overlap/full_overlap_crossmatch_merged.csv'"
   ]
  },
  {
   "cell_type": "code",
   "execution_count": 7,
   "metadata": {},
   "outputs": [],
   "source": [
    "high_certainty_df = pd.read_csv( high_certainty_path )\n",
    "crossmatch_df = pd.read_csv( high_prob_crossmatch_path )\n",
    "full_overlap_crossmatch_df = pd.read_csv( full_overlap_crossmatch_path )"
   ]
  },
  {
   "cell_type": "code",
   "execution_count": 8,
   "metadata": {},
   "outputs": [
    {
     "data": {
      "text/plain": [
       "40620"
      ]
     },
     "execution_count": 8,
     "metadata": {},
     "output_type": "execute_result"
    }
   ],
   "source": [
    "len(high_certainty_df)"
   ]
  },
  {
   "cell_type": "code",
   "execution_count": 9,
   "metadata": {},
   "outputs": [
    {
     "data": {
      "text/plain": [
       "1366"
      ]
     },
     "execution_count": 9,
     "metadata": {},
     "output_type": "execute_result"
    }
   ],
   "source": [
    "len(crossmatch_df)"
   ]
  },
  {
   "cell_type": "markdown",
   "metadata": {},
   "source": [
    "# Training + Validation Set   "
   ]
  },
  {
   "cell_type": "code",
   "execution_count": 10,
   "metadata": {},
   "outputs": [],
   "source": [
    "from sklearn.model_selection import train_test_split"
   ]
  },
  {
   "cell_type": "markdown",
   "metadata": {},
   "source": [
    "#### 1. Subtract crossmatch_df from high_certainty_df "
   ]
  },
  {
   "cell_type": "code",
   "execution_count": 11,
   "metadata": {},
   "outputs": [],
   "source": [
    "train_df_tmp = high_certainty_df[ ~high_certainty_df['OBJID'].isin(crossmatch_df.SDSS_OBJID) ]"
   ]
  },
  {
   "cell_type": "code",
   "execution_count": 12,
   "metadata": {},
   "outputs": [],
   "source": [
    "assert( len(train_df_tmp) + len(crossmatch_df) == len(high_certainty_df) )"
   ]
  },
  {
   "cell_type": "markdown",
   "metadata": {},
   "source": [
    "#### 2. Split the remaining into training and validation sets "
   ]
  },
  {
   "cell_type": "code",
   "execution_count": 13,
   "metadata": {},
   "outputs": [],
   "source": [
    "train_df, val_df = train_test_split(train_df_tmp, test_size=1000, random_state=42, shuffle=True )"
   ]
  },
  {
   "cell_type": "code",
   "execution_count": 14,
   "metadata": {},
   "outputs": [],
   "source": [
    "train_df.reset_index(inplace=True, drop=True)\n",
    "val_df.reset_index(inplace=True, drop=True)"
   ]
  },
  {
   "cell_type": "code",
   "execution_count": 15,
   "metadata": {},
   "outputs": [
    {
     "name": "stdout",
     "output_type": "stream",
     "text": [
      "Training set size:  38254\n",
      "Validation set size:  1000\n"
     ]
    }
   ],
   "source": [
    "print( 'Training set size: ', len(train_df) )\n",
    "print( 'Validation set size: ', len(val_df) )"
   ]
  },
  {
   "cell_type": "code",
   "execution_count": 16,
   "metadata": {},
   "outputs": [
    {
     "name": "stdout",
     "output_type": "stream",
     "text": [
      "Spirals in training set:  19258\n",
      "Ellipticals in training set:  18996\n"
     ]
    }
   ],
   "source": [
    "print( 'Spirals in training set: ', len(train_df[ train_df.P_CS_DEBIASED > train_df.P_EL_DEBIASED ]) )\n",
    "print( 'Ellipticals in training set: ', len(train_df[ train_df.P_CS_DEBIASED < train_df.P_EL_DEBIASED ]) )"
   ]
  },
  {
   "cell_type": "code",
   "execution_count": 17,
   "metadata": {},
   "outputs": [
    {
     "name": "stdout",
     "output_type": "stream",
     "text": [
      "Spirals in validation set:  479\n",
      "Ellipticals in validation set:  521\n"
     ]
    }
   ],
   "source": [
    "print( 'Spirals in validation set: ', len(val_df[ val_df.P_CS_DEBIASED > val_df.P_EL_DEBIASED]) )\n",
    "print( 'Ellipticals in validation set: ', len(val_df[ val_df.P_CS_DEBIASED < val_df.P_EL_DEBIASED]) )"
   ]
  },
  {
   "cell_type": "markdown",
   "metadata": {},
   "source": [
    "#### 3. Save the dataframes at deeplearning/data as csv files"
   ]
  },
  {
   "cell_type": "code",
   "execution_count": 18,
   "metadata": {},
   "outputs": [],
   "source": [
    "train_df.to_csv( PATH + '../data/training_set.csv' )\n",
    "val_df.to_csv( PATH + '../data/validation_set.csv')\n",
    "crossmatch_df.to_csv( PATH + '../data/high_prob_crossmatch_test_set.csv')\n",
    "full_overlap_crossmatch_df.to_csv( PATH + '../data/full_overlap_crossmatch_test_set.csv')"
   ]
  },
  {
   "cell_type": "code",
   "execution_count": null,
   "metadata": {},
   "outputs": [],
   "source": []
  }
 ],
 "metadata": {
  "kernelspec": {
   "display_name": "Python 3",
   "language": "python",
   "name": "python3"
  },
  "language_info": {
   "codemirror_mode": {
    "name": "ipython",
    "version": 3
   },
   "file_extension": ".py",
   "mimetype": "text/x-python",
   "name": "python",
   "nbconvert_exporter": "python",
   "pygments_lexer": "ipython3",
   "version": "3.11.5"
  }
 },
 "nbformat": 4,
 "nbformat_minor": 2
}
