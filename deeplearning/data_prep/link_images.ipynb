{
 "cells": [
  {
   "cell_type": "code",
   "execution_count": 1,
   "metadata": {},
   "outputs": [],
   "source": [
    "import pandas as pd\n",
    "from subprocess import call\n",
    "from pathlib import Path"
   ]
  },
  {
   "cell_type": "code",
   "execution_count": 2,
   "metadata": {},
   "outputs": [],
   "source": [
    "PATH = '/home/khan74/scratch/new_DL_DES/'"
   ]
  },
  {
   "cell_type": "code",
   "execution_count": 3,
   "metadata": {},
   "outputs": [],
   "source": [
    "train_df = pd.read_csv(PATH + 'deeplearning/data/training_set.csv')\n",
    "val_df = pd.read_csv(PATH + 'deeplearning/data/validation_set.csv')\n",
    "HP_crossmatch_df = pd.read_csv(PATH + 'deeplearning/data/high_prob_crossmatch_test_set.csv')\n",
    "FO_crossmatch_df = pd.read_csv(PATH + 'deeplearning/data/full_overlap_crossmatch_test_set.csv')"
   ]
  },
  {
   "cell_type": "markdown",
   "metadata": {},
   "source": [
    "# 1. Training Directories "
   ]
  },
  {
   "cell_type": "code",
   "execution_count": 9,
   "metadata": {},
   "outputs": [],
   "source": [
    "file_path = Path( PATH + 'data/sdss-galaxyzoo/high_certainty/images/remapped' )\n",
    "link_path = Path( PATH + 'deeplearning/data/train')"
   ]
  },
  {
   "cell_type": "code",
   "execution_count": 45,
   "metadata": {
    "code_folding": []
   },
   "outputs": [],
   "source": [
    "for i in train_df.index:\n",
    "    \n",
    "    row = train_df.loc[i]\n",
    "    objid = row.OBJID\n",
    "    \n",
    "    if row.P_CS_DEBIASED > row.P_EL_DEBIASED:\n",
    "        type = 'spiral'\n",
    "    else:\n",
    "        type = 'elliptical'\n",
    "        \n",
    "    img_path = file_path.joinpath('%d.png' % objid)\n",
    "    soft_link_path = link_path.joinpath(type, '%d.png' % objid)\n",
    "    \n",
    "    if not img_path.exists():\n",
    "        print( 'Not Found: Image with OBJID %d' %objid)  \n",
    "    if soft_link_path.exists():\n",
    "        continue\n",
    "    \n",
    "    status = call(['ln', img_path, soft_link_path])\n",
    "    if status != 0:\n",
    "        print(\"Command failed with return code - \", status)"
   ]
  },
  {
   "cell_type": "markdown",
   "metadata": {},
   "source": [
    "# 2. Validation Directories "
   ]
  },
  {
   "cell_type": "code",
   "execution_count": 50,
   "metadata": {},
   "outputs": [],
   "source": [
    "file_path = Path( PATH + 'data/sdss-galaxyzoo/high_certainty/images/remapped' )\n",
    "link_path = Path( PATH + 'deeplearning/data/val')"
   ]
  },
  {
   "cell_type": "code",
   "execution_count": 51,
   "metadata": {},
   "outputs": [],
   "source": [
    "for i in val_df.index:\n",
    "    \n",
    "    row = val_df.loc[i]\n",
    "    objid = row.OBJID\n",
    "    \n",
    "    if row.P_CS_DEBIASED > row.P_EL_DEBIASED:\n",
    "        type = 'spiral'\n",
    "    else:\n",
    "        type = 'elliptical'\n",
    "        \n",
    "    img_path = file_path.joinpath('%d.png' % objid)\n",
    "    soft_link_path = link_path.joinpath(type, '%d.png' % objid)\n",
    "    \n",
    "    if not img_path.exists():\n",
    "        print( 'Not Found: Image with OBJID %d' %objid)  \n",
    "    if soft_link_path.exists():\n",
    "        continue\n",
    "    \n",
    "    status = call(['ln', img_path, soft_link_path])\n",
    "    if status != 0:\n",
    "        print(\"Command failed with return code - \", status)"
   ]
  },
  {
   "cell_type": "markdown",
   "metadata": {},
   "source": [
    "# 3. HP_crossmatch_test Directories"
   ]
  },
  {
   "cell_type": "markdown",
   "metadata": {},
   "source": [
    "### 1. SDSS "
   ]
  },
  {
   "cell_type": "code",
   "execution_count": 66,
   "metadata": {},
   "outputs": [],
   "source": [
    "file_path = Path( PATH + 'data/sdss-galaxyzoo/high_certainty/images/remapped' )\n",
    "link_path = Path( PATH + 'deeplearning/data/HP_crossmatch_test/sdss/test')"
   ]
  },
  {
   "cell_type": "code",
   "execution_count": 67,
   "metadata": {},
   "outputs": [],
   "source": [
    "for i in HP_crossmatch_df.index:\n",
    "    \n",
    "    row = HP_crossmatch_df.loc[i]\n",
    "    objid = row.SDSS_OBJID\n",
    "        \n",
    "    img_path = file_path.joinpath('%d.png' % objid)\n",
    "    soft_link_path = link_path.joinpath('%d.png' % objid)\n",
    "    \n",
    "    if not img_path.exists():\n",
    "        print( 'Not Found: Image with OBJID %d' %objid)  \n",
    "    if soft_link_path.exists():\n",
    "        continue\n",
    "    \n",
    "    status = call(['ln', img_path, soft_link_path])\n",
    "    if status != 0:\n",
    "        print(\"Command failed with return code - \", status)"
   ]
  },
  {
   "cell_type": "markdown",
   "metadata": {},
   "source": [
    "### 2. DES "
   ]
  },
  {
   "cell_type": "code",
   "execution_count": 68,
   "metadata": {},
   "outputs": [],
   "source": [
    "file_path = Path( PATH + 'data/des/des_sdss_overlap/high_prob_overlap/images' )\n",
    "link_path = Path( PATH + 'deeplearning/data/HP_crossmatch_test/des/test')"
   ]
  },
  {
   "cell_type": "code",
   "execution_count": 69,
   "metadata": {},
   "outputs": [],
   "source": [
    "for i in HP_crossmatch_df.index:\n",
    "    \n",
    "    row = HP_crossmatch_df.loc[i]\n",
    "    objid = row.DES_COADD_OBJECT_ID\n",
    "        \n",
    "    img_path = file_path.joinpath('%d.png' % objid)\n",
    "    soft_link_path = link_path.joinpath('%d.png' % objid)\n",
    "    \n",
    "    if not img_path.exists():\n",
    "        print( 'Not Found: Image with OBJID %d' %objid)  \n",
    "    if soft_link_path.exists():\n",
    "        continue\n",
    "    \n",
    "    status = call(['ln', img_path, soft_link_path])\n",
    "    if status != 0:\n",
    "        print(\"Command failed with return code - \", status)"
   ]
  },
  {
   "cell_type": "markdown",
   "metadata": {},
   "source": [
    "# 4.  FO_crossmatch_test Directories"
   ]
  },
  {
   "cell_type": "markdown",
   "metadata": {},
   "source": [
    "### 1. SDSS "
   ]
  },
  {
   "cell_type": "code",
   "execution_count": 70,
   "metadata": {},
   "outputs": [],
   "source": [
    "file_path = Path( PATH + 'data/sdss-galaxyzoo/des_overlap/images/remapped' )\n",
    "link_path = Path( PATH + 'deeplearning/data/FO_crossmatch_test/sdss/test')"
   ]
  },
  {
   "cell_type": "code",
   "execution_count": 71,
   "metadata": {},
   "outputs": [],
   "source": [
    "for i in FO_crossmatch_df.index:\n",
    "    \n",
    "    row = FO_crossmatch_df.loc[i]\n",
    "    objid = row.SDSS_OBJID\n",
    "        \n",
    "    img_path = file_path.joinpath('%d.png' % objid)\n",
    "    soft_link_path = link_path.joinpath('%d.png' % objid)\n",
    "    \n",
    "    if not img_path.exists():\n",
    "        print( 'Not Found: Image with OBJID %d' %objid)  \n",
    "    if soft_link_path.exists():\n",
    "        continue\n",
    "    \n",
    "    status = call(['ln', img_path, soft_link_path])\n",
    "    if status != 0:\n",
    "        print(\"Command failed with return code - \", status)"
   ]
  },
  {
   "cell_type": "markdown",
   "metadata": {},
   "source": [
    "### 2. DES "
   ]
  },
  {
   "cell_type": "code",
   "execution_count": 4,
   "metadata": {},
   "outputs": [],
   "source": [
    "file_path = Path( PATH + 'data/des/des_sdss_overlap/full_overlap/images' )\n",
    "link_path = Path( PATH + 'deeplearning/data/FO_crossmatch_test/des/test')"
   ]
  },
  {
   "cell_type": "code",
   "execution_count": 5,
   "metadata": {
    "code_folding": []
   },
   "outputs": [],
   "source": [
    "for i in FO_crossmatch_df.index:\n",
    "    \n",
    "    row = FO_crossmatch_df.loc[i]\n",
    "    objid = row.DES_COADD_OBJECT_ID\n",
    "        \n",
    "    img_path = file_path.joinpath('%d.png' % objid)\n",
    "    soft_link_path = link_path.joinpath('%d.png' % objid)\n",
    "    \n",
    "    if not img_path.exists():\n",
    "        print( 'Not Found: Image with OBJID %d' %objid)  \n",
    "    if soft_link_path.exists():\n",
    "        continue\n",
    "    \n",
    "    status = call(['ln', img_path, soft_link_path])\n",
    "    if status != 0:\n",
    "        print(\"Command failed with return code - \", status)"
   ]
  },
  {
   "cell_type": "code",
   "execution_count": null,
   "metadata": {},
   "outputs": [],
   "source": []
  }
 ],
 "metadata": {
  "kernelspec": {
   "display_name": "Python 3",
   "language": "python",
   "name": "python3"
  },
  "language_info": {
   "codemirror_mode": {
    "name": "ipython",
    "version": 3
   },
   "file_extension": ".py",
   "mimetype": "text/x-python",
   "name": "python",
   "nbconvert_exporter": "python",
   "pygments_lexer": "ipython3",
   "version": "3.6.6"
  }
 },
 "nbformat": 4,
 "nbformat_minor": 2
}
