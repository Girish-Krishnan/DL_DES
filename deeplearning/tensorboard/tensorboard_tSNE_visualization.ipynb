{
 "cells": [
  {
   "cell_type": "markdown",
   "metadata": {
    "heading_collapsed": true
   },
   "source": [
    "#### 1. Import Libraries "
   ]
  },
  {
   "cell_type": "code",
   "execution_count": 1,
   "metadata": {
    "hidden": true
   },
   "outputs": [],
   "source": [
    "#%reload_ext autoreload\n",
    "#%autoreload 2\n",
    "%matplotlib notebook"
   ]
  },
  {
   "cell_type": "code",
   "execution_count": 2,
   "metadata": {
    "hidden": true
   },
   "outputs": [],
   "source": [
    "PATH = \"/home/khan74/scratch/new_DL_DES/\"\n",
    "sz=224\n",
    "batch_size=64"
   ]
  },
  {
   "cell_type": "code",
   "execution_count": 3,
   "metadata": {
    "hidden": true
   },
   "outputs": [
    {
     "name": "stderr",
     "output_type": "stream",
     "text": [
      "Using TensorFlow backend.\n"
     ]
    }
   ],
   "source": [
    "import numpy as np\n",
    "import keras\n",
    "from keras.preprocessing.image import ImageDataGenerator\n",
    "from keras.preprocessing import image\n",
    "from keras.layers import Dropout, Flatten, Dense\n",
    "from keras.applications import ResNet50, Xception\n",
    "from keras.models import Model, Sequential\n",
    "from keras.layers import Dense, GlobalAveragePooling2D\n",
    "from keras import backend as K\n",
    "from keras import optimizers\n",
    "from keras.applications.resnet50 import preprocess_input\n",
    "from keras.models import load_model"
   ]
  },
  {
   "cell_type": "code",
   "execution_count": 4,
   "metadata": {
    "hidden": true
   },
   "outputs": [],
   "source": [
    "import matplotlib.pyplot as plt\n",
    "import seaborn as sn\n",
    "import pandas as pd \n",
    "import numpy as np"
   ]
  },
  {
   "cell_type": "code",
   "execution_count": 5,
   "metadata": {
    "hidden": true
   },
   "outputs": [],
   "source": [
    "import os\n",
    "from os import listdir, makedirs\n",
    "from os.path import isfile, join, exists"
   ]
  },
  {
   "cell_type": "markdown",
   "metadata": {
    "heading_collapsed": true
   },
   "source": [
    "#### 2. Load Data / Create data_generators"
   ]
  },
  {
   "cell_type": "code",
   "execution_count": 6,
   "metadata": {
    "hidden": true
   },
   "outputs": [],
   "source": [
    "train_df = pd.read_csv(PATH + 'deeplearning/data/training_set.csv')\n",
    "val_df = pd.read_csv(PATH + 'deeplearning/data/validation_set.csv')\n",
    "HP_crossmatch_df = pd.read_csv(PATH + 'deeplearning/data/high_prob_crossmatch_test_set.csv')\n",
    "FO_crossmatch_df = pd.read_csv(PATH + 'deeplearning/data/full_overlap_crossmatch_test_set.csv')"
   ]
  },
  {
   "cell_type": "markdown",
   "metadata": {
    "heading_collapsed": true,
    "hidden": true
   },
   "source": [
    "##### flow_from_dir"
   ]
  },
  {
   "cell_type": "code",
   "execution_count": 7,
   "metadata": {
    "hidden": true
   },
   "outputs": [],
   "source": [
    "train_data_dir = f'{PATH}deeplearning/data/train/'\n",
    "validation_data_dir = f'{PATH}deeplearning/data/valid/'\n",
    "\n",
    "HP_SDSS_test_data_dir = f'{PATH}deeplearning/data/HP_crossmatch_test/sdss/'\n",
    "HP_DES_test_data_dir = f'{PATH}deeplearning/data/HP_crossmatch_test/des/'\n",
    "\n",
    "FO_SDSS_test_data_dir = f'{PATH}deeplearning/data/FO_crossmatch_test/sdss/'\n",
    "FO_DES_test_data_dir = f'{PATH}deeplearning/data/FO_crossmatch_test/des/'"
   ]
  },
  {
   "cell_type": "code",
   "execution_count": 8,
   "metadata": {
    "hidden": true
   },
   "outputs": [
    {
     "name": "stdout",
     "output_type": "stream",
     "text": [
      "Found 36620 images belonging to 2 classes.\n",
      "Found 963 images belonging to 2 classes.\n",
      "Found 1066 images belonging to 1 classes.\n",
      "Found 1066 images belonging to 1 classes.\n",
      "Found 12596 images belonging to 1 classes.\n",
      "Found 12596 images belonging to 1 classes.\n"
     ]
    }
   ],
   "source": [
    "train_datagen = ImageDataGenerator(\n",
    "rescale = 1./255,\n",
    "horizontal_flip = True,\n",
    "vertical_flip = True,\n",
    "fill_mode = \"nearest\",\n",
    "zoom_range = 0.3,\n",
    "width_shift_range = 0.3,\n",
    "height_shift_range=0.3,\n",
    "rotation_range=45)\n",
    "\n",
    "valid_datagen = ImageDataGenerator(rescale = 1./255)\n",
    "\n",
    "test_datagen = ImageDataGenerator(\n",
    "rescale = 1./255,\n",
    "horizontal_flip = True,\n",
    "vertical_flip = True,\n",
    "fill_mode = \"nearest\",\n",
    "zoom_range = 0.3,\n",
    "width_shift_range = 0.3,\n",
    "height_shift_range=0.3,\n",
    "rotation_range=45)\n",
    "\n",
    "\n",
    "\n",
    "\n",
    "train_generator = train_datagen.flow_from_directory(\n",
    "train_data_dir,\n",
    "target_size = (sz, sz),\n",
    "batch_size = batch_size, \n",
    "class_mode = \"categorical\",\n",
    "shuffle = True,\n",
    "interpolation = 'nearest')\n",
    "\n",
    "validation_generator = valid_datagen.flow_from_directory(\n",
    "validation_data_dir,\n",
    "target_size = (sz, sz),\n",
    "batch_size = 1,\n",
    "class_mode = \"categorical\",\n",
    "shuffle = False,\n",
    "interpolation = 'nearest')\n",
    "\n",
    "\n",
    "\n",
    "\n",
    "HP_SDSS_test_generator = test_datagen.flow_from_directory(\n",
    "HP_SDSS_test_data_dir,\n",
    "target_size = (sz, sz),\n",
    "batch_size = 1,\n",
    "class_mode = None,\n",
    "shuffle = False)\n",
    "\n",
    "HP_DES_test_generator = test_datagen.flow_from_directory(\n",
    "HP_DES_test_data_dir,\n",
    "target_size = (sz, sz),\n",
    "batch_size = 1,\n",
    "class_mode = None,\n",
    "shuffle = False)\n",
    "\n",
    "\n",
    "\n",
    "\n",
    "FO_SDSS_test_generator = test_datagen.flow_from_directory(\n",
    "FO_SDSS_test_data_dir,\n",
    "target_size = (sz, sz),\n",
    "batch_size = 1,\n",
    "class_mode = None,\n",
    "shuffle = False)\n",
    "\n",
    "FO_DES_test_generator = test_datagen.flow_from_directory(\n",
    "FO_DES_test_data_dir,\n",
    "target_size = (sz, sz),\n",
    "batch_size = 1,\n",
    "class_mode = None,\n",
    "shuffle = False)"
   ]
  },
  {
   "cell_type": "markdown",
   "metadata": {
    "heading_collapsed": true
   },
   "source": [
    "#### 3. Load Model "
   ]
  },
  {
   "cell_type": "code",
   "execution_count": 9,
   "metadata": {
    "hidden": true
   },
   "outputs": [],
   "source": [
    "model_final = load_model(PATH + 'deeplearning/weights/Xception_Final.h5')"
   ]
  },
  {
   "cell_type": "markdown",
   "metadata": {
    "heading_collapsed": true
   },
   "source": [
    "#### 4. Load sklearn / Def metrics "
   ]
  },
  {
   "cell_type": "code",
   "execution_count": 11,
   "metadata": {
    "hidden": true
   },
   "outputs": [],
   "source": [
    "import itertools\n",
    "from sklearn import metrics\n",
    "from sklearn.metrics import confusion_matrix"
   ]
  },
  {
   "cell_type": "code",
   "execution_count": 12,
   "metadata": {
    "hidden": true
   },
   "outputs": [],
   "source": [
    "def plot_confusion_matrix(cm, classes,\n",
    "                          normalize=False,\n",
    "                          title='Confusion matrix',\n",
    "                          cmap=plt.cm.Blues,\n",
    "                          figure_size = (11, 6),\n",
    "                          save=0,\n",
    "                          save_path='/home/khan74'):\n",
    "    \"\"\"\n",
    "    This function prints and plots the confusion matrix.\n",
    "    Normalization can be applied by setting `normalize=True`.\n",
    "    \"\"\"\n",
    "    #if normalize:\n",
    "        #cm = cm.astype('float') / cm.sum(axis=1)[:, np.newaxis]\n",
    "        #print(\"Normalized confusion matrix\")\n",
    "    #else:\n",
    "        #print('Confusion matrix, without normalization')\n",
    "\n",
    "    #print(cm)\n",
    "\n",
    "    plt.figure(figsize=figure_size)\n",
    "    plt.imshow(cm, interpolation='nearest', cmap=cmap)\n",
    "    plt.title(title)\n",
    "    #plt.colorbar()\n",
    "    tick_marks = np.arange(len(classes))\n",
    "    plt.xticks(tick_marks, classes, rotation=45)\n",
    "    plt.yticks(tick_marks, classes)\n",
    "\n",
    "    fmt = '.2f' if normalize else 'd'\n",
    "    thresh = cm.max() / 2.\n",
    "    for i, j in itertools.product(range(cm.shape[0]), range(cm.shape[1])):\n",
    "        plt.text(j, i, format(cm[i, j], fmt),\n",
    "                 horizontalalignment=\"center\",\n",
    "                 color=\"white\" if cm[i, j] > thresh else \"black\")\n",
    "\n",
    "    plt.ylabel('True label')\n",
    "    plt.xlabel('Predicted label')\n",
    "    plt.tight_layout()\n",
    "    \n",
    "    if save:\n",
    "        plt.savefig(save_path)\n",
    "        #plt.savefig('confusion_matrix.png')"
   ]
  },
  {
   "cell_type": "code",
   "execution_count": 13,
   "metadata": {
    "hidden": true
   },
   "outputs": [],
   "source": [
    "# Define probability threshold mask\n",
    "\n",
    "def threshold_mask(pred_array, prob_threshold = 0.9999):\n",
    "    ''' \n",
    "    returns the positions in the array where the probability for each class is greater than prob_threshold\n",
    "    \n",
    "    pred_array: A one-hot encoded array of softmax probability outputs \n",
    "    prob_threshold: Float b/w 0 and 1 to use as a threshold mask\n",
    "    '''\n",
    "    pred_class_indices = np.argmax(pred_array, axis=1)\n",
    "    pos = np.where( pred_array[ range( pred_array.shape[0] ), pred_class_indices ] > prob_threshold )[0]\n",
    "    return pos\n"
   ]
  },
  {
   "cell_type": "code",
   "execution_count": 14,
   "metadata": {
    "hidden": true
   },
   "outputs": [],
   "source": [
    "# Define top n predictions mask\n",
    "\n",
    "def top_pred_mask(pred_array, n_top_predictions = 5000 ):\n",
    "    '''\n",
    "    reversedurn the positions of top n most confident predictions\n",
    "    \n",
    "    pred_array: A one-reversedencoded array of softmax probability outputs\n",
    "    n_top_predictions: Num of top predictions\n",
    "    '''\n",
    "    pred_class_indices = np.argmax(pred_array, axis=1)\n",
    "    pos = np.argsort( pred_array[ range( pred_array.shape[0] ), pred_class_indices ] ) \n",
    "    mask = np.flip( pos )\n",
    "    return mask[: n_top_predictions]"
   ]
  },
  {
   "cell_type": "markdown",
   "metadata": {},
   "source": [
    "# Tensorboard "
   ]
  },
  {
   "cell_type": "markdown",
   "metadata": {},
   "source": [
    "## 1. Validation"
   ]
  },
  {
   "cell_type": "markdown",
   "metadata": {
    "heading_collapsed": true
   },
   "source": [
    "### A.  Tensorboard Metadata  "
   ]
  },
  {
   "cell_type": "code",
   "execution_count": 11,
   "metadata": {
    "hidden": true
   },
   "outputs": [],
   "source": [
    "from keras.callbacks import TensorBoard"
   ]
  },
  {
   "cell_type": "code",
   "execution_count": 12,
   "metadata": {
    "hidden": true
   },
   "outputs": [
    {
     "name": "stdout",
     "output_type": "stream",
     "text": [
      "Found 963 images belonging to 2 classes.\n"
     ]
    }
   ],
   "source": [
    "tsne_datagen = ImageDataGenerator(rescale = 1./255)\n",
    "\n",
    "tsne_generator = tsne_datagen.flow_from_directory(\n",
    "validation_data_dir,\n",
    "target_size = (sz, sz),\n",
    "batch_size = 4506,\n",
    "class_mode = \"categorical\",\n",
    "shuffle = False,\n",
    "interpolation = 'nearest')"
   ]
  },
  {
   "cell_type": "code",
   "execution_count": 13,
   "metadata": {
    "hidden": true
   },
   "outputs": [],
   "source": [
    "x_test, y_test = tsne_generator[0]"
   ]
  },
  {
   "cell_type": "code",
   "execution_count": 14,
   "metadata": {
    "hidden": true
   },
   "outputs": [],
   "source": [
    "labels = np.argmax(y_test, axis=1)"
   ]
  },
  {
   "cell_type": "code",
   "execution_count": 19,
   "metadata": {
    "hidden": true
   },
   "outputs": [],
   "source": [
    "log_dir = PATH + '/deeplearning/tensorboard/metadata/validation/'\n",
    "\n",
    "if not exists(log_dir):\n",
    "    makedirs(log_dir)"
   ]
  },
  {
   "cell_type": "code",
   "execution_count": 20,
   "metadata": {
    "hidden": true
   },
   "outputs": [],
   "source": [
    "# save class labels to disk to color data points in TensorBoard accordingly\n",
    "with open(join(log_dir, 'metadata.tsv'), 'w') as f:\n",
    "    np.savetxt(f, np.argmax(y_test, axis=1))"
   ]
  },
  {
   "cell_type": "code",
   "execution_count": 21,
   "metadata": {
    "hidden": true
   },
   "outputs": [],
   "source": [
    "tensorboard = TensorBoard(log_dir=log_dir,\n",
    "                          batch_size=batch_size,\n",
    "                          embeddings_freq=1,\n",
    "                          embeddings_layer_names=['second_last_layer'],\n",
    "                          embeddings_metadata='metadata.tsv',\n",
    "                          embeddings_data=x_test)"
   ]
  },
  {
   "cell_type": "markdown",
   "metadata": {
    "heading_collapsed": true
   },
   "source": [
    "### B.  Calling Tensorboard without fit "
   ]
  },
  {
   "cell_type": "code",
   "execution_count": 22,
   "metadata": {
    "hidden": true
   },
   "outputs": [],
   "source": [
    "tensorboard.set_model(model_final)"
   ]
  },
  {
   "cell_type": "code",
   "execution_count": 23,
   "metadata": {
    "hidden": true
   },
   "outputs": [
    {
     "name": "stdout",
     "output_type": "stream",
     "text": [
      "963/963 [==============================] - 15s 15ms/step\n"
     ]
    }
   ],
   "source": [
    "pred = model_final.predict(x_test, verbose=1)"
   ]
  },
  {
   "cell_type": "code",
   "execution_count": 24,
   "metadata": {
    "hidden": true
   },
   "outputs": [],
   "source": [
    "tensorboard.on_epoch_end(epoch=1)"
   ]
  },
  {
   "cell_type": "code",
   "execution_count": 25,
   "metadata": {
    "hidden": true
   },
   "outputs": [],
   "source": [
    "tensorboard.on_train_end('_')"
   ]
  },
  {
   "cell_type": "code",
   "execution_count": 26,
   "metadata": {
    "hidden": true
   },
   "outputs": [
    {
     "name": "stdout",
     "output_type": "stream",
     "text": [
      "Test loss: 0.004898180560559432\n",
      "Test accuracy: 0.9979231568016614\n"
     ]
    }
   ],
   "source": [
    "score = model_final.evaluate(x_test, y_test, verbose=0)\n",
    "print('Test loss:', score[0])\n",
    "print('Test accuracy:', score[1])"
   ]
  },
  {
   "cell_type": "code",
   "execution_count": 28,
   "metadata": {
    "hidden": true
   },
   "outputs": [
    {
     "data": {
      "text/plain": [
       "'/home/khan74/scratch/new_DL_DES//deeplearning/tensorboard/metadata/validation/'"
      ]
     },
     "execution_count": 28,
     "metadata": {},
     "output_type": "execute_result"
    }
   ],
   "source": [
    "log_dir"
   ]
  },
  {
   "cell_type": "markdown",
   "metadata": {},
   "source": [
    "## 2. FO DES "
   ]
  },
  {
   "cell_type": "markdown",
   "metadata": {},
   "source": [
    "### Masking "
   ]
  },
  {
   "cell_type": "code",
   "execution_count": 10,
   "metadata": {},
   "outputs": [
    {
     "name": "stdout",
     "output_type": "stream",
     "text": [
      "12596/12596 [==============================] - 980s 78ms/step\n"
     ]
    }
   ],
   "source": [
    "FO_DES_predictions = model_final.predict_generator(FO_DES_test_generator, verbose=1)"
   ]
  },
  {
   "cell_type": "code",
   "execution_count": 17,
   "metadata": {},
   "outputs": [],
   "source": [
    "mask = top_pred_mask(FO_DES_predictions, 6000)"
   ]
  },
  {
   "cell_type": "code",
   "execution_count": 18,
   "metadata": {},
   "outputs": [],
   "source": [
    "FO_DES_predicted_class_indices=np.argmax(FO_DES_predictions,axis=1)\n",
    "\n",
    "\n",
    "labels = (train_generator.class_indices)\n",
    "labels = dict((v,k) for k,v in labels.items())\n",
    "predictions = np.array( [labels[k] for k in FO_DES_predicted_class_indices] )\n",
    "\n",
    "filenames= np.array( FO_DES_test_generator.filenames )\n",
    "\n",
    "results=pd.DataFrame({\"Filename\":filenames[mask],\n",
    "                      \"Pred_Labels\":predictions[mask],\n",
    "                     \"Predictions\":FO_DES_predicted_class_indices[mask]})"
   ]
  },
  {
   "cell_type": "code",
   "execution_count": 28,
   "metadata": {},
   "outputs": [],
   "source": [
    "results['OBJID'] = results['Filename'].apply(lambda x: x.split('/')[-1][:-4]).astype('int64')\n",
    "final = pd.merge(results, FO_crossmatch_df, left_on='OBJID', right_on='DES_COADD_OBJECT_ID')\n",
    "final['Actuals'] = final['P_CS_DEBIASED'] > final['P_EL_DEBIASED']\n",
    "final['Actual_Labels'] = final.apply(lambda row: 'Spiral' \\\n",
    "                                        if row.P_CS_DEBIASED > row.P_EL_DEBIASED \\\n",
    "                                        else 'Elliptical', axis=1)\n",
    "final.Filename = final['Filename'].apply(lambda x: x.split('/')[-1] )"
   ]
  },
  {
   "cell_type": "code",
   "execution_count": 29,
   "metadata": {},
   "outputs": [
    {
     "data": {
      "text/html": [
       "<div>\n",
       "<style scoped>\n",
       "    .dataframe tbody tr th:only-of-type {\n",
       "        vertical-align: middle;\n",
       "    }\n",
       "\n",
       "    .dataframe tbody tr th {\n",
       "        vertical-align: top;\n",
       "    }\n",
       "\n",
       "    .dataframe thead th {\n",
       "        text-align: right;\n",
       "    }\n",
       "</style>\n",
       "<table border=\"1\" class=\"dataframe\">\n",
       "  <thead>\n",
       "    <tr style=\"text-align: right;\">\n",
       "      <th></th>\n",
       "      <th>OBJID</th>\n",
       "      <th>Filename</th>\n",
       "      <th>Actuals</th>\n",
       "      <th>Predictions</th>\n",
       "      <th>Actual_Labels</th>\n",
       "      <th>Pred_Labels</th>\n",
       "    </tr>\n",
       "  </thead>\n",
       "  <tbody>\n",
       "    <tr>\n",
       "      <th>0</th>\n",
       "      <td>100005001</td>\n",
       "      <td>100005001.png</td>\n",
       "      <td>True</td>\n",
       "      <td>1</td>\n",
       "      <td>Spiral</td>\n",
       "      <td>spiral</td>\n",
       "    </tr>\n",
       "    <tr>\n",
       "      <th>1</th>\n",
       "      <td>188237220</td>\n",
       "      <td>188237220.png</td>\n",
       "      <td>True</td>\n",
       "      <td>1</td>\n",
       "      <td>Spiral</td>\n",
       "      <td>spiral</td>\n",
       "    </tr>\n",
       "    <tr>\n",
       "      <th>2</th>\n",
       "      <td>112762744</td>\n",
       "      <td>112762744.png</td>\n",
       "      <td>True</td>\n",
       "      <td>1</td>\n",
       "      <td>Spiral</td>\n",
       "      <td>spiral</td>\n",
       "    </tr>\n",
       "    <tr>\n",
       "      <th>3</th>\n",
       "      <td>326029165</td>\n",
       "      <td>326029165.png</td>\n",
       "      <td>True</td>\n",
       "      <td>1</td>\n",
       "      <td>Spiral</td>\n",
       "      <td>spiral</td>\n",
       "    </tr>\n",
       "    <tr>\n",
       "      <th>4</th>\n",
       "      <td>326027919</td>\n",
       "      <td>326027919.png</td>\n",
       "      <td>True</td>\n",
       "      <td>1</td>\n",
       "      <td>Spiral</td>\n",
       "      <td>spiral</td>\n",
       "    </tr>\n",
       "  </tbody>\n",
       "</table>\n",
       "</div>"
      ],
      "text/plain": [
       "       OBJID       Filename  Actuals  Predictions Actual_Labels Pred_Labels\n",
       "0  100005001  100005001.png     True            1        Spiral      spiral\n",
       "1  188237220  188237220.png     True            1        Spiral      spiral\n",
       "2  112762744  112762744.png     True            1        Spiral      spiral\n",
       "3  326029165  326029165.png     True            1        Spiral      spiral\n",
       "4  326027919  326027919.png     True            1        Spiral      spiral"
      ]
     },
     "execution_count": 29,
     "metadata": {},
     "output_type": "execute_result"
    }
   ],
   "source": [
    "final[['OBJID', 'Filename', 'Actuals', 'Predictions', 'Actual_Labels', 'Pred_Labels']].head()"
   ]
  },
  {
   "cell_type": "markdown",
   "metadata": {},
   "source": [
    "### A.  Tensorboard Metadata  "
   ]
  },
  {
   "cell_type": "code",
   "execution_count": 83,
   "metadata": {},
   "outputs": [],
   "source": [
    "from keras.callbacks import TensorBoard"
   ]
  },
  {
   "cell_type": "code",
   "execution_count": 84,
   "metadata": {},
   "outputs": [
    {
     "name": "stdout",
     "output_type": "stream",
     "text": [
      "Found 6000 images.\n"
     ]
    }
   ],
   "source": [
    "tsne_generator = test_datagen.flow_from_dataframe(\n",
    "dataframe = final,\n",
    "directory = FO_DES_test_data_dir+ 'test/',\n",
    "x_col = 'Filename',\n",
    "y_col = 'Actual_Labels',\n",
    "has_ext = True,\n",
    "target_size = (sz, sz),\n",
    "batch_size = len(mask),\n",
    "class_mode = None,\n",
    "shuffle = False)"
   ]
  },
  {
   "cell_type": "code",
   "execution_count": 85,
   "metadata": {},
   "outputs": [],
   "source": [
    "x_test = tsne_generator[0]"
   ]
  },
  {
   "cell_type": "code",
   "execution_count": 117,
   "metadata": {},
   "outputs": [],
   "source": [
    "labels=[]\n",
    "\n",
    "for file in tsne_generator.filenames:\n",
    "    labels.append( list(final.Actuals[ final.Filename == file]) )"
   ]
  },
  {
   "cell_type": "code",
   "execution_count": 118,
   "metadata": {},
   "outputs": [],
   "source": [
    "labels = np.squeeze(labels)"
   ]
  },
  {
   "cell_type": "code",
   "execution_count": 124,
   "metadata": {},
   "outputs": [],
   "source": [
    "log_dir = PATH + '/deeplearning/tensorboard/metadata/FO_DES/'\n",
    "\n",
    "if not exists(log_dir):\n",
    "    makedirs(log_dir)"
   ]
  },
  {
   "cell_type": "code",
   "execution_count": 125,
   "metadata": {},
   "outputs": [],
   "source": [
    "labels = np.array(labels)\n",
    "\n",
    "# save class labels to disk to color data points in TensorBoard accordingly\n",
    "with open(join(log_dir, 'metadata.tsv'), 'w') as f:\n",
    "    np.savetxt(f, labels)"
   ]
  },
  {
   "cell_type": "code",
   "execution_count": 126,
   "metadata": {},
   "outputs": [],
   "source": [
    "tensorboard = TensorBoard(log_dir=log_dir,\n",
    "                          batch_size=batch_size,\n",
    "                          embeddings_freq=1,\n",
    "                          embeddings_layer_names=['second_last_layer'],\n",
    "                          embeddings_metadata='metadata.tsv',\n",
    "                          embeddings_data=x_test)"
   ]
  },
  {
   "cell_type": "markdown",
   "metadata": {},
   "source": [
    "### B.  Calling Tensorboard without fit "
   ]
  },
  {
   "cell_type": "code",
   "execution_count": 127,
   "metadata": {},
   "outputs": [],
   "source": [
    "tensorboard.set_model(model_final)"
   ]
  },
  {
   "cell_type": "code",
   "execution_count": 128,
   "metadata": {},
   "outputs": [
    {
     "name": "stdout",
     "output_type": "stream",
     "text": [
      "6000/6000 [==============================] - 70s 12ms/step\n"
     ]
    }
   ],
   "source": [
    "pred = model_final.predict(x_test, verbose=1)"
   ]
  },
  {
   "cell_type": "code",
   "execution_count": 129,
   "metadata": {},
   "outputs": [],
   "source": [
    "tensorboard.on_epoch_end(epoch=1)"
   ]
  },
  {
   "cell_type": "code",
   "execution_count": 130,
   "metadata": {},
   "outputs": [],
   "source": [
    "tensorboard.on_train_end('_')"
   ]
  },
  {
   "cell_type": "code",
   "execution_count": 131,
   "metadata": {},
   "outputs": [],
   "source": [
    "y_test = keras.utils.to_categorical(labels, num_classes=2, dtype='float32')"
   ]
  },
  {
   "cell_type": "code",
   "execution_count": 137,
   "metadata": {},
   "outputs": [
    {
     "name": "stdout",
     "output_type": "stream",
     "text": [
      "Test loss: 0.3340698997615788\n",
      "Test accuracy: 0.9685\n"
     ]
    }
   ],
   "source": [
    "score = model_final.evaluate(x_test, y_test, verbose=0)\n",
    "print('Test loss:', score[0])\n",
    "print('Test accuracy:', score[1])"
   ]
  },
  {
   "cell_type": "code",
   "execution_count": 64,
   "metadata": {},
   "outputs": [
    {
     "data": {
      "text/plain": [
       "'/home/khan74/scratch/new_DL_DES//deeplearning/tensorboard/metadata/FO_DES/'"
      ]
     },
     "execution_count": 64,
     "metadata": {},
     "output_type": "execute_result"
    }
   ],
   "source": [
    "log_dir"
   ]
  }
 ],
 "metadata": {
  "kernelspec": {
   "display_name": "Python 3",
   "language": "python",
   "name": "python3"
  },
  "language_info": {
   "codemirror_mode": {
    "name": "ipython",
    "version": 3
   },
   "file_extension": ".py",
   "mimetype": "text/x-python",
   "name": "python",
   "nbconvert_exporter": "python",
   "pygments_lexer": "ipython3",
   "version": "3.6.6"
  }
 },
 "nbformat": 4,
 "nbformat_minor": 2
}
